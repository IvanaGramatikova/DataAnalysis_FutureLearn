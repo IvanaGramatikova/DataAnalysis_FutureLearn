{
 "cells": [
  {
   "cell_type": "markdown",
   "metadata": {},
   "source": [
    "# Exercise notebook 4: Grouping your data\n",
    "This Jupyter notebook, for Week 4 of The Open University's Learn to code for Data Analysis course, contains code examples and coding activities for you.\n",
    "In Week 4, you'll come across steps directing you to this notebook. Once you've done the exercise, go back to FutureLearn to discuss it with your fellow learners and course facilitators and mark it as complete. Remember to run the code in this notebook before you start."
   ]
  },
  {
   "cell_type": "code",
   "execution_count": 110,
   "metadata": {
    "collapsed": true
   },
   "outputs": [],
   "source": [
    "import warnings\n",
    "warnings.simplefilter('ignore', FutureWarning)\n",
    "\n",
    "import matplotlib\n",
    "matplotlib.rcParams['axes.grid'] = True # show gridlines by default\n",
    "%matplotlib inline\n",
    "\n",
    "from pandas import *"
   ]
  },
  {
   "cell_type": "code",
   "execution_count": 111,
   "metadata": {
    "collapsed": true
   },
   "outputs": [],
   "source": [
    "LOCATION='comtrade_MK.csv'"
   ]
  },
  {
   "cell_type": "code",
   "execution_count": 112,
   "metadata": {
    "collapsed": false
   },
   "outputs": [
    {
     "data": {
      "text/html": [
       "<div>\n",
       "<table border=\"1\" class=\"dataframe\">\n",
       "  <thead>\n",
       "    <tr style=\"text-align: right;\">\n",
       "      <th></th>\n",
       "      <th>Classification</th>\n",
       "      <th>Year</th>\n",
       "      <th>Period</th>\n",
       "      <th>Period Desc.</th>\n",
       "      <th>Aggregate Level</th>\n",
       "      <th>Is Leaf Code</th>\n",
       "      <th>Trade Flow Code</th>\n",
       "      <th>Trade Flow</th>\n",
       "      <th>Reporter Code</th>\n",
       "      <th>Reporter</th>\n",
       "      <th>...</th>\n",
       "      <th>Qty</th>\n",
       "      <th>Alt Qty Unit Code</th>\n",
       "      <th>Alt Qty Unit</th>\n",
       "      <th>Alt Qty</th>\n",
       "      <th>Netweight (kg)</th>\n",
       "      <th>Gross weight (kg)</th>\n",
       "      <th>Trade Value (US$)</th>\n",
       "      <th>CIF Trade Value (US$)</th>\n",
       "      <th>FOB Trade Value (US$)</th>\n",
       "      <th>Flag</th>\n",
       "    </tr>\n",
       "  </thead>\n",
       "  <tbody>\n",
       "    <tr>\n",
       "      <th>0</th>\n",
       "      <td>HS</td>\n",
       "      <td>2017</td>\n",
       "      <td>201701</td>\n",
       "      <td>January 2017</td>\n",
       "      <td>6</td>\n",
       "      <td>1</td>\n",
       "      <td>1</td>\n",
       "      <td>Imports</td>\n",
       "      <td>807</td>\n",
       "      <td>TFYR of Macedonia</td>\n",
       "      <td>...</td>\n",
       "      <td>NaN</td>\n",
       "      <td>NaN</td>\n",
       "      <td>NaN</td>\n",
       "      <td>NaN</td>\n",
       "      <td>95700</td>\n",
       "      <td>NaN</td>\n",
       "      <td>97782</td>\n",
       "      <td>NaN</td>\n",
       "      <td>NaN</td>\n",
       "      <td>0</td>\n",
       "    </tr>\n",
       "    <tr>\n",
       "      <th>1</th>\n",
       "      <td>HS</td>\n",
       "      <td>2017</td>\n",
       "      <td>201701</td>\n",
       "      <td>January 2017</td>\n",
       "      <td>6</td>\n",
       "      <td>1</td>\n",
       "      <td>1</td>\n",
       "      <td>Imports</td>\n",
       "      <td>807</td>\n",
       "      <td>TFYR of Macedonia</td>\n",
       "      <td>...</td>\n",
       "      <td>NaN</td>\n",
       "      <td>NaN</td>\n",
       "      <td>NaN</td>\n",
       "      <td>NaN</td>\n",
       "      <td>95700</td>\n",
       "      <td>NaN</td>\n",
       "      <td>97782</td>\n",
       "      <td>NaN</td>\n",
       "      <td>NaN</td>\n",
       "      <td>0</td>\n",
       "    </tr>\n",
       "    <tr>\n",
       "      <th>2</th>\n",
       "      <td>HS</td>\n",
       "      <td>2017</td>\n",
       "      <td>201702</td>\n",
       "      <td>February 2017</td>\n",
       "      <td>6</td>\n",
       "      <td>1</td>\n",
       "      <td>1</td>\n",
       "      <td>Imports</td>\n",
       "      <td>807</td>\n",
       "      <td>TFYR of Macedonia</td>\n",
       "      <td>...</td>\n",
       "      <td>NaN</td>\n",
       "      <td>NaN</td>\n",
       "      <td>NaN</td>\n",
       "      <td>NaN</td>\n",
       "      <td>435875</td>\n",
       "      <td>NaN</td>\n",
       "      <td>459363</td>\n",
       "      <td>NaN</td>\n",
       "      <td>NaN</td>\n",
       "      <td>0</td>\n",
       "    </tr>\n",
       "  </tbody>\n",
       "</table>\n",
       "<p>3 rows × 35 columns</p>\n",
       "</div>"
      ],
      "text/plain": [
       "  Classification  Year  Period   Period Desc.  Aggregate Level  Is Leaf Code  \\\n",
       "0             HS  2017  201701   January 2017                6             1   \n",
       "1             HS  2017  201701   January 2017                6             1   \n",
       "2             HS  2017  201702  February 2017                6             1   \n",
       "\n",
       "   Trade Flow Code Trade Flow Reporter Code           Reporter  ...   Qty  \\\n",
       "0                1    Imports           807  TFYR of Macedonia  ...   NaN   \n",
       "1                1    Imports           807  TFYR of Macedonia  ...   NaN   \n",
       "2                1    Imports           807  TFYR of Macedonia  ...   NaN   \n",
       "\n",
       "   Alt Qty Unit Code Alt Qty Unit  Alt Qty  Netweight (kg)  Gross weight (kg)  \\\n",
       "0                NaN          NaN      NaN           95700                NaN   \n",
       "1                NaN          NaN      NaN           95700                NaN   \n",
       "2                NaN          NaN      NaN          435875                NaN   \n",
       "\n",
       "   Trade Value (US$)  CIF Trade Value (US$)  FOB Trade Value (US$)  Flag  \n",
       "0              97782                    NaN                    NaN     0  \n",
       "1              97782                    NaN                    NaN     0  \n",
       "2             459363                    NaN                    NaN     0  \n",
       "\n",
       "[3 rows x 35 columns]"
      ]
     },
     "execution_count": 112,
     "metadata": {},
     "output_type": "execute_result"
    }
   ],
   "source": [
    "vege = read_csv(LOCATION, dtype={'Commodity Code':str, 'Reporter Code':str})\n",
    "vege.head(3)"
   ]
  },
  {
   "cell_type": "code",
   "execution_count": 113,
   "metadata": {
    "collapsed": true
   },
   "outputs": [],
   "source": [
    "COLUMNS = ['Year', 'Period','Trade Flow','Reporter', 'Partner', 'Commodity','Commodity Code','Trade Value (US$)']\n",
    "vege = vege[COLUMNS]\n",
    "vege_world = vege[vege['Partner'] == 'World']\n",
    "vege_countries = vege[vege['Partner'] != 'World']"
   ]
  },
  {
   "cell_type": "code",
   "execution_count": 114,
   "metadata": {
    "collapsed": false
   },
   "outputs": [
    {
     "data": {
      "text/html": [
       "<div>\n",
       "<table border=\"1\" class=\"dataframe\">\n",
       "  <thead>\n",
       "    <tr style=\"text-align: right;\">\n",
       "      <th></th>\n",
       "      <th>Year</th>\n",
       "      <th>Period</th>\n",
       "      <th>Trade Flow</th>\n",
       "      <th>Reporter</th>\n",
       "      <th>Partner</th>\n",
       "      <th>Commodity</th>\n",
       "      <th>Commodity Code</th>\n",
       "      <th>Trade Value (US$)</th>\n",
       "    </tr>\n",
       "  </thead>\n",
       "  <tbody>\n",
       "    <tr>\n",
       "      <th>0</th>\n",
       "      <td>2017</td>\n",
       "      <td>201701</td>\n",
       "      <td>Imports</td>\n",
       "      <td>TFYR of Macedonia</td>\n",
       "      <td>Netherlands</td>\n",
       "      <td>Vegetables; seed potatoes, fresh or chilled</td>\n",
       "      <td>070110</td>\n",
       "      <td>97782</td>\n",
       "    </tr>\n",
       "    <tr>\n",
       "      <th>1</th>\n",
       "      <td>2017</td>\n",
       "      <td>201702</td>\n",
       "      <td>Imports</td>\n",
       "      <td>TFYR of Macedonia</td>\n",
       "      <td>Germany</td>\n",
       "      <td>Vegetables; seed potatoes, fresh or chilled</td>\n",
       "      <td>070110</td>\n",
       "      <td>65890</td>\n",
       "    </tr>\n",
       "    <tr>\n",
       "      <th>2</th>\n",
       "      <td>2017</td>\n",
       "      <td>201702</td>\n",
       "      <td>Imports</td>\n",
       "      <td>TFYR of Macedonia</td>\n",
       "      <td>Netherlands</td>\n",
       "      <td>Vegetables; seed potatoes, fresh or chilled</td>\n",
       "      <td>070110</td>\n",
       "      <td>393473</td>\n",
       "    </tr>\n",
       "    <tr>\n",
       "      <th>3</th>\n",
       "      <td>2017</td>\n",
       "      <td>201704</td>\n",
       "      <td>Imports</td>\n",
       "      <td>TFYR of Macedonia</td>\n",
       "      <td>Germany</td>\n",
       "      <td>Vegetables; seed potatoes, fresh or chilled</td>\n",
       "      <td>070110</td>\n",
       "      <td>3017</td>\n",
       "    </tr>\n",
       "    <tr>\n",
       "      <th>4</th>\n",
       "      <td>2017</td>\n",
       "      <td>201704</td>\n",
       "      <td>Imports</td>\n",
       "      <td>TFYR of Macedonia</td>\n",
       "      <td>Netherlands</td>\n",
       "      <td>Vegetables; seed potatoes, fresh or chilled</td>\n",
       "      <td>070110</td>\n",
       "      <td>60932</td>\n",
       "    </tr>\n",
       "  </tbody>\n",
       "</table>\n",
       "</div>"
      ],
      "text/plain": [
       "   Year  Period Trade Flow           Reporter      Partner  \\\n",
       "0  2017  201701    Imports  TFYR of Macedonia  Netherlands   \n",
       "1  2017  201702    Imports  TFYR of Macedonia      Germany   \n",
       "2  2017  201702    Imports  TFYR of Macedonia  Netherlands   \n",
       "3  2017  201704    Imports  TFYR of Macedonia      Germany   \n",
       "4  2017  201704    Imports  TFYR of Macedonia  Netherlands   \n",
       "\n",
       "                                     Commodity Commodity Code  \\\n",
       "0  Vegetables; seed potatoes, fresh or chilled         070110   \n",
       "1  Vegetables; seed potatoes, fresh or chilled         070110   \n",
       "2  Vegetables; seed potatoes, fresh or chilled         070110   \n",
       "3  Vegetables; seed potatoes, fresh or chilled         070110   \n",
       "4  Vegetables; seed potatoes, fresh or chilled         070110   \n",
       "\n",
       "   Trade Value (US$)  \n",
       "0              97782  \n",
       "1              65890  \n",
       "2             393473  \n",
       "3               3017  \n",
       "4              60932  "
      ]
     },
     "execution_count": 114,
     "metadata": {},
     "output_type": "execute_result"
    }
   ],
   "source": [
    "vege_countries.to_csv('countryvege.csv', index=False)\n",
    "load_test = read_csv('countryvege.csv', dtype={'Commodity Code':str, 'Reporter Code':str})\n",
    "load_test.head(5)"
   ]
  },
  {
   "cell_type": "code",
   "execution_count": 115,
   "metadata": {
    "collapsed": true
   },
   "outputs": [],
   "source": [
    "vege_imports = vege_countries[vege_countries['Trade Flow'] == 'Imports']\n",
    "vege_countries_imports = vege_countries[vege_countries['Trade Flow'] == 'Imports']\n",
    "vege_world_imports=vege_world[vege_world['Trade Flow'] == 'Imports']\n",
    "vege_exports = vege_countries[vege_countries['Trade Flow'] == 'Exports']\n",
    "vege_countries_exports = vege_countries[vege_countries['Trade Flow'] == 'Exports']\n",
    "vege_world_exports=vege_world[vege_world['Trade Flow'] == 'Exports']"
   ]
  },
  {
   "cell_type": "code",
   "execution_count": 116,
   "metadata": {
    "collapsed": false
   },
   "outputs": [
    {
     "data": {
      "text/html": [
       "<div>\n",
       "<table border=\"1\" class=\"dataframe\">\n",
       "  <thead>\n",
       "    <tr style=\"text-align: right;\">\n",
       "      <th></th>\n",
       "      <th>Year</th>\n",
       "      <th>Period</th>\n",
       "      <th>Trade Flow</th>\n",
       "      <th>Reporter</th>\n",
       "      <th>Partner</th>\n",
       "      <th>Commodity</th>\n",
       "      <th>Commodity Code</th>\n",
       "      <th>Trade Value (US$)</th>\n",
       "    </tr>\n",
       "  </thead>\n",
       "  <tbody>\n",
       "    <tr>\n",
       "      <th>1</th>\n",
       "      <td>2017</td>\n",
       "      <td>201701</td>\n",
       "      <td>Imports</td>\n",
       "      <td>TFYR of Macedonia</td>\n",
       "      <td>Netherlands</td>\n",
       "      <td>Vegetables; seed potatoes, fresh or chilled</td>\n",
       "      <td>070110</td>\n",
       "      <td>97782</td>\n",
       "    </tr>\n",
       "    <tr>\n",
       "      <th>200</th>\n",
       "      <td>2017</td>\n",
       "      <td>201701</td>\n",
       "      <td>Imports</td>\n",
       "      <td>TFYR of Macedonia</td>\n",
       "      <td>Serbia</td>\n",
       "      <td>Vegetables, root; carrots and turnips, fresh o...</td>\n",
       "      <td>070610</td>\n",
       "      <td>87310</td>\n",
       "    </tr>\n",
       "    <tr>\n",
       "      <th>81</th>\n",
       "      <td>2017</td>\n",
       "      <td>201701</td>\n",
       "      <td>Imports</td>\n",
       "      <td>TFYR of Macedonia</td>\n",
       "      <td>Serbia</td>\n",
       "      <td>Onions, shallots, garlic, leeks and other alli...</td>\n",
       "      <td>0703</td>\n",
       "      <td>38297</td>\n",
       "    </tr>\n",
       "    <tr>\n",
       "      <th>11</th>\n",
       "      <td>2017</td>\n",
       "      <td>201701</td>\n",
       "      <td>Imports</td>\n",
       "      <td>TFYR of Macedonia</td>\n",
       "      <td>Greece</td>\n",
       "      <td>Vegetables; tomatoes, fresh or chilled</td>\n",
       "      <td>070200</td>\n",
       "      <td>31720</td>\n",
       "    </tr>\n",
       "    <tr>\n",
       "      <th>14</th>\n",
       "      <td>2017</td>\n",
       "      <td>201701</td>\n",
       "      <td>Imports</td>\n",
       "      <td>TFYR of Macedonia</td>\n",
       "      <td>Turkey</td>\n",
       "      <td>Vegetables; tomatoes, fresh or chilled</td>\n",
       "      <td>070200</td>\n",
       "      <td>23214</td>\n",
       "    </tr>\n",
       "  </tbody>\n",
       "</table>\n",
       "</div>"
      ],
      "text/plain": [
       "     Year  Period Trade Flow           Reporter      Partner  \\\n",
       "1    2017  201701    Imports  TFYR of Macedonia  Netherlands   \n",
       "200  2017  201701    Imports  TFYR of Macedonia       Serbia   \n",
       "81   2017  201701    Imports  TFYR of Macedonia       Serbia   \n",
       "11   2017  201701    Imports  TFYR of Macedonia       Greece   \n",
       "14   2017  201701    Imports  TFYR of Macedonia       Turkey   \n",
       "\n",
       "                                             Commodity Commodity Code  \\\n",
       "1          Vegetables; seed potatoes, fresh or chilled         070110   \n",
       "200  Vegetables, root; carrots and turnips, fresh o...         070610   \n",
       "81   Onions, shallots, garlic, leeks and other alli...           0703   \n",
       "11              Vegetables; tomatoes, fresh or chilled         070200   \n",
       "14              Vegetables; tomatoes, fresh or chilled         070200   \n",
       "\n",
       "     Trade Value (US$)  \n",
       "1                97782  \n",
       "200              87310  \n",
       "81               38297  \n",
       "11               31720  \n",
       "14               23214  "
      ]
     },
     "execution_count": 116,
     "metadata": {},
     "output_type": "execute_result"
    }
   ],
   "source": [
    "vegeImportsInJanuary2017 = vege_countries_imports[vege_countries_imports['Period'] == 201701]\n",
    "vegeImportsInJanuary2017.sort('Trade Value (US$)',ascending=False).head(5)"
   ]
  },
  {
   "cell_type": "code",
   "execution_count": 117,
   "metadata": {
    "collapsed": false
   },
   "outputs": [
    {
     "data": {
      "text/html": [
       "<div>\n",
       "<table border=\"1\" class=\"dataframe\">\n",
       "  <thead>\n",
       "    <tr style=\"text-align: right;\">\n",
       "      <th></th>\n",
       "      <th>Year</th>\n",
       "      <th>Period</th>\n",
       "      <th>Trade Flow</th>\n",
       "      <th>Reporter</th>\n",
       "      <th>Partner</th>\n",
       "      <th>Commodity</th>\n",
       "      <th>Commodity Code</th>\n",
       "      <th>Trade Value (US$)</th>\n",
       "    </tr>\n",
       "  </thead>\n",
       "  <tbody>\n",
       "    <tr>\n",
       "      <th>13</th>\n",
       "      <td>2017</td>\n",
       "      <td>201701</td>\n",
       "      <td>Exports</td>\n",
       "      <td>TFYR of Macedonia</td>\n",
       "      <td>Russian Federation</td>\n",
       "      <td>Vegetables; tomatoes, fresh or chilled</td>\n",
       "      <td>070200</td>\n",
       "      <td>123754</td>\n",
       "    </tr>\n",
       "    <tr>\n",
       "      <th>72</th>\n",
       "      <td>2017</td>\n",
       "      <td>201701</td>\n",
       "      <td>Exports</td>\n",
       "      <td>TFYR of Macedonia</td>\n",
       "      <td>Albania</td>\n",
       "      <td>Onions, shallots, garlic, leeks and other alli...</td>\n",
       "      <td>0703</td>\n",
       "      <td>9275</td>\n",
       "    </tr>\n",
       "    <tr>\n",
       "      <th>78</th>\n",
       "      <td>2017</td>\n",
       "      <td>201701</td>\n",
       "      <td>Exports</td>\n",
       "      <td>TFYR of Macedonia</td>\n",
       "      <td>Montenegro</td>\n",
       "      <td>Onions, shallots, garlic, leeks and other alli...</td>\n",
       "      <td>0703</td>\n",
       "      <td>1621</td>\n",
       "    </tr>\n",
       "    <tr>\n",
       "      <th>201</th>\n",
       "      <td>2017</td>\n",
       "      <td>201701</td>\n",
       "      <td>Exports</td>\n",
       "      <td>TFYR of Macedonia</td>\n",
       "      <td>Serbia</td>\n",
       "      <td>Vegetables, root; carrots and turnips, fresh o...</td>\n",
       "      <td>070610</td>\n",
       "      <td>270</td>\n",
       "    </tr>\n",
       "    <tr>\n",
       "      <th>179</th>\n",
       "      <td>2017</td>\n",
       "      <td>201701</td>\n",
       "      <td>Exports</td>\n",
       "      <td>TFYR of Macedonia</td>\n",
       "      <td>Serbia</td>\n",
       "      <td>Vegetables; lettuce (lactuca sativa), (other t...</td>\n",
       "      <td>070519</td>\n",
       "      <td>153</td>\n",
       "    </tr>\n",
       "  </tbody>\n",
       "</table>\n",
       "</div>"
      ],
      "text/plain": [
       "     Year  Period Trade Flow           Reporter             Partner  \\\n",
       "13   2017  201701    Exports  TFYR of Macedonia  Russian Federation   \n",
       "72   2017  201701    Exports  TFYR of Macedonia             Albania   \n",
       "78   2017  201701    Exports  TFYR of Macedonia          Montenegro   \n",
       "201  2017  201701    Exports  TFYR of Macedonia              Serbia   \n",
       "179  2017  201701    Exports  TFYR of Macedonia              Serbia   \n",
       "\n",
       "                                             Commodity Commodity Code  \\\n",
       "13              Vegetables; tomatoes, fresh or chilled         070200   \n",
       "72   Onions, shallots, garlic, leeks and other alli...           0703   \n",
       "78   Onions, shallots, garlic, leeks and other alli...           0703   \n",
       "201  Vegetables, root; carrots and turnips, fresh o...         070610   \n",
       "179  Vegetables; lettuce (lactuca sativa), (other t...         070519   \n",
       "\n",
       "     Trade Value (US$)  \n",
       "13              123754  \n",
       "72                9275  \n",
       "78                1621  \n",
       "201                270  \n",
       "179                153  "
      ]
     },
     "execution_count": 117,
     "metadata": {},
     "output_type": "execute_result"
    }
   ],
   "source": [
    "vegeExportsInJanuary2017 = vege_countries_exports[vege_countries_exports['Period'] == 201701]\n",
    "vegeExportsInJanuary2017.sort('Trade Value (US$)',ascending=False).head(5)"
   ]
  },
  {
   "cell_type": "markdown",
   "metadata": {},
   "source": [
    "# Total trade flow"
   ]
  },
  {
   "cell_type": "code",
   "execution_count": 118,
   "metadata": {
    "collapsed": false
   },
   "outputs": [],
   "source": [
    "MONTH = 'Period'\n",
    "PARTNER = 'Partner'\n",
    "FLOW = 'Trade Flow'\n",
    "VALUE = 'Trade Value (US$)'"
   ]
  },
  {
   "cell_type": "code",
   "execution_count": 119,
   "metadata": {
    "collapsed": false
   },
   "outputs": [
    {
     "data": {
      "text/plain": [
       "Trade Flow\n",
       "Exports    25122275\n",
       "Imports     6234451\n",
       "Name: Trade Value (US$), dtype: int64"
      ]
     },
     "execution_count": 119,
     "metadata": {},
     "output_type": "execute_result"
    }
   ],
   "source": [
    "grouped = vege.groupby([FLOW])\n",
    "grouped[VALUE].aggregate(sum)"
   ]
  },
  {
   "cell_type": "markdown",
   "metadata": {},
   "source": [
    "This shows a trade surplus of over 18 million dollars."
   ]
  },
  {
   "cell_type": "code",
   "execution_count": 120,
   "metadata": {
    "collapsed": false
   },
   "outputs": [
    {
     "name": "stdout",
     "output_type": "stream",
     "text": [
      "Macedonia imports from 20 countries.\n",
      "The 5 biggest exporters to Macedonia are:\n"
     ]
    },
    {
     "data": {
      "text/plain": [
       "Partner\n",
       "Albania        1219234\n",
       "Netherlands     693190\n",
       "Serbia          462759\n",
       "Turkey          338851\n",
       "Greece          124551\n",
       "Name: Trade Value (US$), dtype: int64"
      ]
     },
     "execution_count": 120,
     "metadata": {},
     "output_type": "execute_result"
    }
   ],
   "source": [
    "groupedim = vege_imports.groupby([PARTNER])\n",
    "print('Macedonia imports from', len(groupedim), 'countries.')\n",
    "print('The 5 biggest exporters to Macedonia are:')\n",
    "totalImports = groupedim[VALUE].aggregate(sum).sort(inplace=False,ascending=False)\n",
    "totalImports.head()"
   ]
  },
  {
   "cell_type": "code",
   "execution_count": 121,
   "metadata": {
    "collapsed": false
   },
   "outputs": [
    {
     "data": {
      "text/plain": [
       "<matplotlib.axes._subplots.AxesSubplot at 0x10c42a860>"
      ]
     },
     "execution_count": 121,
     "metadata": {},
     "output_type": "execute_result"
    },
    {
     "data": {
      "image/png": "[encoded data removed]",
      "text/plain": [
       "<matplotlib.figure.Figure at 0x10c328588>"
      ]
     },
     "metadata": {},
     "output_type": "display_data"
    }
   ],
   "source": [
    "totalImports.head(5).plot(kind='barh')"
   ]
  },
  {
   "cell_type": "code",
   "execution_count": 122,
   "metadata": {
    "collapsed": false
   },
   "outputs": [
    {
     "name": "stdout",
     "output_type": "stream",
     "text": [
      "Macedonia exports to 17 countries.\n",
      "The 5 biggest importers to Macedonia are:\n"
     ]
    },
    {
     "data": {
      "text/plain": [
       "Partner\n",
       "Serbia                5067041\n",
       "Russian Federation    4978408\n",
       "Croatia                628787\n",
       "Bosnia Herzegovina     537355\n",
       "Montenegro             483222\n",
       "Name: Trade Value (US$), dtype: int64"
      ]
     },
     "execution_count": 122,
     "metadata": {},
     "output_type": "execute_result"
    }
   ],
   "source": [
    "groupedex = vege_exports.groupby([PARTNER])\n",
    "print('Macedonia exports to', len(groupedex), 'countries.')\n",
    "print('The 5 biggest importers to Macedonia are:')\n",
    "totalExports = groupedex[VALUE].aggregate(sum).sort(inplace=False,ascending=False)\n",
    "totalExports.head()"
   ]
  },
  {
   "cell_type": "code",
   "execution_count": 123,
   "metadata": {
    "collapsed": false
   },
   "outputs": [
    {
     "data": {
      "text/plain": [
       "<matplotlib.axes._subplots.AxesSubplot at 0x10c43c128>"
      ]
     },
     "execution_count": 123,
     "metadata": {},
     "output_type": "execute_result"
    },
    {
     "data": {
      "image/png": "[encoded data removed]",
      "text/plain": [
       "<matplotlib.figure.Figure at 0x10aeca780>"
      ]
     },
     "metadata": {},
     "output_type": "display_data"
    }
   ],
   "source": [
    "totalExports.head(5).plot(kind='barh')"
   ]
  },
  {
   "cell_type": "markdown",
   "metadata": {},
   "source": [
    "## Regular "
   ]
  },
  {
   "cell_type": "code",
   "execution_count": 124,
   "metadata": {
    "collapsed": false
   },
   "outputs": [
    {
     "data": {
      "text/html": [
       "<div>\n",
       "<table border=\"1\" class=\"dataframe\">\n",
       "  <thead>\n",
       "    <tr style=\"text-align: right;\">\n",
       "      <th></th>\n",
       "      <th>Year</th>\n",
       "      <th>Period</th>\n",
       "      <th>Trade Flow</th>\n",
       "      <th>Reporter</th>\n",
       "      <th>Partner</th>\n",
       "      <th>Commodity</th>\n",
       "      <th>Commodity Code</th>\n",
       "      <th>Trade Value (US$)</th>\n",
       "    </tr>\n",
       "  </thead>\n",
       "  <tbody>\n",
       "  </tbody>\n",
       "</table>\n",
       "</div>"
      ],
      "text/plain": [
       "Empty DataFrame\n",
       "Columns: [Year, Period, Trade Flow, Reporter, Partner, Commodity, Commodity Code, Trade Value (US$)]\n",
       "Index: []"
      ]
     },
     "execution_count": 124,
     "metadata": {},
     "output_type": "execute_result"
    }
   ],
   "source": [
    "def buysEveryMonth(group):\n",
    "    return len(group) == 10\n",
    "\n",
    "regular = groupedex.filter(buysEveryMonth)\n",
    "regular\n"
   ]
  },
  {
   "cell_type": "markdown",
   "metadata": {},
   "source": [
    " There are no regular importers"
   ]
  },
  {
   "cell_type": "code",
   "execution_count": 125,
   "metadata": {
    "collapsed": false
   },
   "outputs": [
    {
     "data": {
      "text/html": [
       "<div>\n",
       "<table border=\"1\" class=\"dataframe\">\n",
       "  <thead>\n",
       "    <tr style=\"text-align: right;\">\n",
       "      <th></th>\n",
       "      <th>Year</th>\n",
       "      <th>Period</th>\n",
       "      <th>Trade Flow</th>\n",
       "      <th>Reporter</th>\n",
       "      <th>Partner</th>\n",
       "      <th>Commodity</th>\n",
       "      <th>Commodity Code</th>\n",
       "      <th>Trade Value (US$)</th>\n",
       "    </tr>\n",
       "  </thead>\n",
       "  <tbody>\n",
       "    <tr>\n",
       "      <th>65</th>\n",
       "      <td>2017</td>\n",
       "      <td>201706</td>\n",
       "      <td>Imports</td>\n",
       "      <td>TFYR of Macedonia</td>\n",
       "      <td>Serbia</td>\n",
       "      <td>Vegetables; tomatoes, fresh or chilled</td>\n",
       "      <td>070200</td>\n",
       "      <td>15233</td>\n",
       "    </tr>\n",
       "    <tr>\n",
       "      <th>81</th>\n",
       "      <td>2017</td>\n",
       "      <td>201701</td>\n",
       "      <td>Imports</td>\n",
       "      <td>TFYR of Macedonia</td>\n",
       "      <td>Serbia</td>\n",
       "      <td>Onions, shallots, garlic, leeks and other alli...</td>\n",
       "      <td>0703</td>\n",
       "      <td>38297</td>\n",
       "    </tr>\n",
       "    <tr>\n",
       "      <th>93</th>\n",
       "      <td>2017</td>\n",
       "      <td>201702</td>\n",
       "      <td>Imports</td>\n",
       "      <td>TFYR of Macedonia</td>\n",
       "      <td>Serbia</td>\n",
       "      <td>Onions, shallots, garlic, leeks and other alli...</td>\n",
       "      <td>0703</td>\n",
       "      <td>85595</td>\n",
       "    </tr>\n",
       "    <tr>\n",
       "      <th>106</th>\n",
       "      <td>2017</td>\n",
       "      <td>201704</td>\n",
       "      <td>Imports</td>\n",
       "      <td>TFYR of Macedonia</td>\n",
       "      <td>Serbia</td>\n",
       "      <td>Onions, shallots, garlic, leeks and other alli...</td>\n",
       "      <td>0703</td>\n",
       "      <td>47294</td>\n",
       "    </tr>\n",
       "    <tr>\n",
       "      <th>122</th>\n",
       "      <td>2017</td>\n",
       "      <td>201705</td>\n",
       "      <td>Imports</td>\n",
       "      <td>TFYR of Macedonia</td>\n",
       "      <td>Serbia</td>\n",
       "      <td>Onions, shallots, garlic, leeks and other alli...</td>\n",
       "      <td>0703</td>\n",
       "      <td>2596</td>\n",
       "    </tr>\n",
       "    <tr>\n",
       "      <th>200</th>\n",
       "      <td>2017</td>\n",
       "      <td>201701</td>\n",
       "      <td>Imports</td>\n",
       "      <td>TFYR of Macedonia</td>\n",
       "      <td>Serbia</td>\n",
       "      <td>Vegetables, root; carrots and turnips, fresh o...</td>\n",
       "      <td>070610</td>\n",
       "      <td>87310</td>\n",
       "    </tr>\n",
       "    <tr>\n",
       "      <th>206</th>\n",
       "      <td>2017</td>\n",
       "      <td>201702</td>\n",
       "      <td>Imports</td>\n",
       "      <td>TFYR of Macedonia</td>\n",
       "      <td>Serbia</td>\n",
       "      <td>Vegetables, root; carrots and turnips, fresh o...</td>\n",
       "      <td>070610</td>\n",
       "      <td>79981</td>\n",
       "    </tr>\n",
       "    <tr>\n",
       "      <th>213</th>\n",
       "      <td>2017</td>\n",
       "      <td>201704</td>\n",
       "      <td>Imports</td>\n",
       "      <td>TFYR of Macedonia</td>\n",
       "      <td>Serbia</td>\n",
       "      <td>Vegetables, root; carrots and turnips, fresh o...</td>\n",
       "      <td>070610</td>\n",
       "      <td>84105</td>\n",
       "    </tr>\n",
       "    <tr>\n",
       "      <th>218</th>\n",
       "      <td>2017</td>\n",
       "      <td>201705</td>\n",
       "      <td>Imports</td>\n",
       "      <td>TFYR of Macedonia</td>\n",
       "      <td>Serbia</td>\n",
       "      <td>Vegetables, root; carrots and turnips, fresh o...</td>\n",
       "      <td>070610</td>\n",
       "      <td>18110</td>\n",
       "    </tr>\n",
       "    <tr>\n",
       "      <th>223</th>\n",
       "      <td>2017</td>\n",
       "      <td>201706</td>\n",
       "      <td>Imports</td>\n",
       "      <td>TFYR of Macedonia</td>\n",
       "      <td>Serbia</td>\n",
       "      <td>Vegetables, root; carrots and turnips, fresh o...</td>\n",
       "      <td>070610</td>\n",
       "      <td>4238</td>\n",
       "    </tr>\n",
       "  </tbody>\n",
       "</table>\n",
       "</div>"
      ],
      "text/plain": [
       "     Year  Period Trade Flow           Reporter Partner  \\\n",
       "65   2017  201706    Imports  TFYR of Macedonia  Serbia   \n",
       "81   2017  201701    Imports  TFYR of Macedonia  Serbia   \n",
       "93   2017  201702    Imports  TFYR of Macedonia  Serbia   \n",
       "106  2017  201704    Imports  TFYR of Macedonia  Serbia   \n",
       "122  2017  201705    Imports  TFYR of Macedonia  Serbia   \n",
       "200  2017  201701    Imports  TFYR of Macedonia  Serbia   \n",
       "206  2017  201702    Imports  TFYR of Macedonia  Serbia   \n",
       "213  2017  201704    Imports  TFYR of Macedonia  Serbia   \n",
       "218  2017  201705    Imports  TFYR of Macedonia  Serbia   \n",
       "223  2017  201706    Imports  TFYR of Macedonia  Serbia   \n",
       "\n",
       "                                             Commodity Commodity Code  \\\n",
       "65              Vegetables; tomatoes, fresh or chilled         070200   \n",
       "81   Onions, shallots, garlic, leeks and other alli...           0703   \n",
       "93   Onions, shallots, garlic, leeks and other alli...           0703   \n",
       "106  Onions, shallots, garlic, leeks and other alli...           0703   \n",
       "122  Onions, shallots, garlic, leeks and other alli...           0703   \n",
       "200  Vegetables, root; carrots and turnips, fresh o...         070610   \n",
       "206  Vegetables, root; carrots and turnips, fresh o...         070610   \n",
       "213  Vegetables, root; carrots and turnips, fresh o...         070610   \n",
       "218  Vegetables, root; carrots and turnips, fresh o...         070610   \n",
       "223  Vegetables, root; carrots and turnips, fresh o...         070610   \n",
       "\n",
       "     Trade Value (US$)  \n",
       "65               15233  \n",
       "81               38297  \n",
       "93               85595  \n",
       "106              47294  \n",
       "122               2596  \n",
       "200              87310  \n",
       "206              79981  \n",
       "213              84105  \n",
       "218              18110  \n",
       "223               4238  "
      ]
     },
     "execution_count": 125,
     "metadata": {},
     "output_type": "execute_result"
    }
   ],
   "source": [
    "regular = groupedim.filter(buysEveryMonth)\n",
    "regular"
   ]
  },
  {
   "cell_type": "code",
   "execution_count": 126,
   "metadata": {
    "collapsed": false
   },
   "outputs": [
    {
     "data": {
      "text/plain": [
       "0.14845227676933065"
      ]
     },
     "execution_count": 126,
     "metadata": {},
     "output_type": "execute_result"
    }
   ],
   "source": [
    "regular[VALUE].sum() / vege_imports[VALUE].sum()"
   ]
  },
  {
   "cell_type": "markdown",
   "metadata": {},
   "source": [
    " Serbia is a regular exporter with less than 15% of total imports in 2017"
   ]
  },
  {
   "cell_type": "markdown",
   "metadata": {},
   "source": [
    "# Bi-directional trade"
   ]
  },
  {
   "cell_type": "code",
   "execution_count": 127,
   "metadata": {
    "collapsed": false
   },
   "outputs": [
    {
     "data": {
      "text/html": [
       "<div>\n",
       "<table border=\"1\" class=\"dataframe\">\n",
       "  <thead>\n",
       "    <tr style=\"text-align: right;\">\n",
       "      <th>Trade Flow</th>\n",
       "      <th>Exports</th>\n",
       "      <th>Imports</th>\n",
       "    </tr>\n",
       "    <tr>\n",
       "      <th>Partner</th>\n",
       "      <th></th>\n",
       "      <th></th>\n",
       "    </tr>\n",
       "  </thead>\n",
       "  <tbody>\n",
       "    <tr>\n",
       "      <th>Albania</th>\n",
       "      <td>64034</td>\n",
       "      <td>1219234</td>\n",
       "    </tr>\n",
       "    <tr>\n",
       "      <th>Bosnia Herzegovina</th>\n",
       "      <td>537355</td>\n",
       "      <td>3270</td>\n",
       "    </tr>\n",
       "    <tr>\n",
       "      <th>Croatia</th>\n",
       "      <td>628787</td>\n",
       "      <td>9044</td>\n",
       "    </tr>\n",
       "    <tr>\n",
       "      <th>Greece</th>\n",
       "      <td>7117</td>\n",
       "      <td>124551</td>\n",
       "    </tr>\n",
       "    <tr>\n",
       "      <th>Poland</th>\n",
       "      <td>161835</td>\n",
       "      <td>12446</td>\n",
       "    </tr>\n",
       "    <tr>\n",
       "      <th>Rep. of Moldova</th>\n",
       "      <td>44</td>\n",
       "      <td>3885</td>\n",
       "    </tr>\n",
       "    <tr>\n",
       "      <th>Russian Federation</th>\n",
       "      <td>4978408</td>\n",
       "      <td>67818</td>\n",
       "    </tr>\n",
       "    <tr>\n",
       "      <th>Serbia</th>\n",
       "      <td>5067041</td>\n",
       "      <td>462759</td>\n",
       "    </tr>\n",
       "    <tr>\n",
       "      <th>Slovenia</th>\n",
       "      <td>118487</td>\n",
       "      <td>19260</td>\n",
       "    </tr>\n",
       "  </tbody>\n",
       "</table>\n",
       "</div>"
      ],
      "text/plain": [
       "Trade Flow          Exports  Imports\n",
       "Partner                             \n",
       "Albania               64034  1219234\n",
       "Bosnia Herzegovina   537355     3270\n",
       "Croatia              628787     9044\n",
       "Greece                 7117   124551\n",
       "Poland               161835    12446\n",
       "Rep. of Moldova          44     3885\n",
       "Russian Federation  4978408    67818\n",
       "Serbia              5067041   462759\n",
       "Slovenia             118487    19260"
      ]
     },
     "execution_count": 127,
     "metadata": {},
     "output_type": "execute_result"
    }
   ],
   "source": [
    "countries = pivot_table(vege_countries, index=[PARTNER], columns=[FLOW], \n",
    "                        values=VALUE, aggfunc=sum)\n",
    "countries.dropna()"
   ]
  },
  {
   "cell_type": "markdown",
   "metadata": {},
   "source": [
    "# Detailed analysis"
   ]
  },
  {
   "cell_type": "code",
   "execution_count": 128,
   "metadata": {
    "collapsed": false
   },
   "outputs": [
    {
     "data": {
      "text/html": [
       "<div>\n",
       "<table border=\"1\" class=\"dataframe\">\n",
       "  <thead>\n",
       "    <tr style=\"text-align: right;\">\n",
       "      <th></th>\n",
       "      <th></th>\n",
       "      <th>Trade Flow</th>\n",
       "      <th>Exports</th>\n",
       "      <th>Imports</th>\n",
       "    </tr>\n",
       "    <tr>\n",
       "      <th>Year</th>\n",
       "      <th>Partner</th>\n",
       "      <th>Commodity</th>\n",
       "      <th></th>\n",
       "      <th></th>\n",
       "    </tr>\n",
       "  </thead>\n",
       "  <tbody>\n",
       "    <tr>\n",
       "      <th rowspan=\"20\" valign=\"top\">2017</th>\n",
       "      <th>Albania</th>\n",
       "      <th>Vegetables; tomatoes, fresh or chilled</th>\n",
       "      <td>NaN</td>\n",
       "      <td>1195145</td>\n",
       "    </tr>\n",
       "    <tr>\n",
       "      <th>Netherlands</th>\n",
       "      <th>Vegetables; seed potatoes, fresh or chilled</th>\n",
       "      <td>NaN</td>\n",
       "      <td>552187</td>\n",
       "    </tr>\n",
       "    <tr>\n",
       "      <th>Turkey</th>\n",
       "      <th>Vegetables; tomatoes, fresh or chilled</th>\n",
       "      <td>NaN</td>\n",
       "      <td>335123</td>\n",
       "    </tr>\n",
       "    <tr>\n",
       "      <th rowspan=\"2\" valign=\"top\">Serbia</th>\n",
       "      <th>Vegetables, root; carrots and turnips, fresh or chilled</th>\n",
       "      <td>9853</td>\n",
       "      <td>273744</td>\n",
       "    </tr>\n",
       "    <tr>\n",
       "      <th>Onions, shallots, garlic, leeks and other alliaceous vegetables; fresh or chilled</th>\n",
       "      <td>428497</td>\n",
       "      <td>173782</td>\n",
       "    </tr>\n",
       "    <tr>\n",
       "      <th>Netherlands</th>\n",
       "      <th>Onions, shallots, garlic, leeks and other alliaceous vegetables; fresh or chilled</th>\n",
       "      <td>NaN</td>\n",
       "      <td>138730</td>\n",
       "    </tr>\n",
       "    <tr>\n",
       "      <th>Greece</th>\n",
       "      <th>Vegetables; tomatoes, fresh or chilled</th>\n",
       "      <td>7117</td>\n",
       "      <td>121324</td>\n",
       "    </tr>\n",
       "    <tr>\n",
       "      <th>Germany</th>\n",
       "      <th>Vegetables; seed potatoes, fresh or chilled</th>\n",
       "      <td>NaN</td>\n",
       "      <td>68907</td>\n",
       "    </tr>\n",
       "    <tr>\n",
       "      <th>Russian Federation</th>\n",
       "      <th>Vegetables; tomatoes, fresh or chilled</th>\n",
       "      <td>4959875</td>\n",
       "      <td>67818</td>\n",
       "    </tr>\n",
       "    <tr>\n",
       "      <th rowspan=\"2\" valign=\"top\">China</th>\n",
       "      <th>Onions, shallots, garlic, leeks and other alliaceous vegetables; fresh or chilled</th>\n",
       "      <td>NaN</td>\n",
       "      <td>24603</td>\n",
       "    </tr>\n",
       "    <tr>\n",
       "      <th>Vegetables, alliaceous; garlic, fresh or chilled</th>\n",
       "      <td>NaN</td>\n",
       "      <td>24603</td>\n",
       "    </tr>\n",
       "    <tr>\n",
       "      <th>Slovenia</th>\n",
       "      <th>Vegetables; tomatoes, fresh or chilled</th>\n",
       "      <td>116274</td>\n",
       "      <td>19260</td>\n",
       "    </tr>\n",
       "    <tr>\n",
       "      <th>Italy</th>\n",
       "      <th>Vegetables; tomatoes, fresh or chilled</th>\n",
       "      <td>NaN</td>\n",
       "      <td>19253</td>\n",
       "    </tr>\n",
       "    <tr>\n",
       "      <th>Serbia</th>\n",
       "      <th>Vegetables; tomatoes, fresh or chilled</th>\n",
       "      <td>4627590</td>\n",
       "      <td>15233</td>\n",
       "    </tr>\n",
       "    <tr>\n",
       "      <th>Albania</th>\n",
       "      <th>Onions, shallots, garlic, leeks and other alliaceous vegetables; fresh or chilled</th>\n",
       "      <td>37538</td>\n",
       "      <td>12504</td>\n",
       "    </tr>\n",
       "    <tr>\n",
       "      <th>Poland</th>\n",
       "      <th>Onions, shallots, garlic, leeks and other alliaceous vegetables; fresh or chilled</th>\n",
       "      <td>161835</td>\n",
       "      <td>12446</td>\n",
       "    </tr>\n",
       "    <tr>\n",
       "      <th>Albania</th>\n",
       "      <th>Vegetables, root; carrots and turnips, fresh or chilled</th>\n",
       "      <td>NaN</td>\n",
       "      <td>11508</td>\n",
       "    </tr>\n",
       "    <tr>\n",
       "      <th>Croatia</th>\n",
       "      <th>Onions, shallots, garlic, leeks and other alliaceous vegetables; fresh or chilled</th>\n",
       "      <td>293010</td>\n",
       "      <td>9044</td>\n",
       "    </tr>\n",
       "    <tr>\n",
       "      <th>France</th>\n",
       "      <th>Onions, shallots, garlic, leeks and other alliaceous vegetables; fresh or chilled</th>\n",
       "      <td>NaN</td>\n",
       "      <td>8751</td>\n",
       "    </tr>\n",
       "    <tr>\n",
       "      <th>Spain</th>\n",
       "      <th>Vegetables; lettuce (lactuca sativa), (other than cabbage lettuce), fresh or chilled</th>\n",
       "      <td>NaN</td>\n",
       "      <td>7328</td>\n",
       "    </tr>\n",
       "  </tbody>\n",
       "</table>\n",
       "</div>"
      ],
      "text/plain": [
       "Trade Flow                                                                  Exports  \\\n",
       "Year Partner            Commodity                                                     \n",
       "2017 Albania            Vegetables; tomatoes, fresh or chilled                  NaN   \n",
       "     Netherlands        Vegetables; seed potatoes, fresh or chilled             NaN   \n",
       "     Turkey             Vegetables; tomatoes, fresh or chilled                  NaN   \n",
       "     Serbia             Vegetables, root; carrots and turnips, fresh or...     9853   \n",
       "                        Onions, shallots, garlic, leeks and other allia...   428497   \n",
       "     Netherlands        Onions, shallots, garlic, leeks and other allia...      NaN   \n",
       "     Greece             Vegetables; tomatoes, fresh or chilled                 7117   \n",
       "     Germany            Vegetables; seed potatoes, fresh or chilled             NaN   \n",
       "     Russian Federation Vegetables; tomatoes, fresh or chilled              4959875   \n",
       "     China              Onions, shallots, garlic, leeks and other allia...      NaN   \n",
       "                        Vegetables, alliaceous; garlic, fresh or chilled        NaN   \n",
       "     Slovenia           Vegetables; tomatoes, fresh or chilled               116274   \n",
       "     Italy              Vegetables; tomatoes, fresh or chilled                  NaN   \n",
       "     Serbia             Vegetables; tomatoes, fresh or chilled              4627590   \n",
       "     Albania            Onions, shallots, garlic, leeks and other allia...    37538   \n",
       "     Poland             Onions, shallots, garlic, leeks and other allia...   161835   \n",
       "     Albania            Vegetables, root; carrots and turnips, fresh or...      NaN   \n",
       "     Croatia            Onions, shallots, garlic, leeks and other allia...   293010   \n",
       "     France             Onions, shallots, garlic, leeks and other allia...      NaN   \n",
       "     Spain              Vegetables; lettuce (lactuca sativa), (other th...      NaN   \n",
       "\n",
       "Trade Flow                                                                  Imports  \n",
       "Year Partner            Commodity                                                    \n",
       "2017 Albania            Vegetables; tomatoes, fresh or chilled              1195145  \n",
       "     Netherlands        Vegetables; seed potatoes, fresh or chilled          552187  \n",
       "     Turkey             Vegetables; tomatoes, fresh or chilled               335123  \n",
       "     Serbia             Vegetables, root; carrots and turnips, fresh or...   273744  \n",
       "                        Onions, shallots, garlic, leeks and other allia...   173782  \n",
       "     Netherlands        Onions, shallots, garlic, leeks and other allia...   138730  \n",
       "     Greece             Vegetables; tomatoes, fresh or chilled               121324  \n",
       "     Germany            Vegetables; seed potatoes, fresh or chilled           68907  \n",
       "     Russian Federation Vegetables; tomatoes, fresh or chilled                67818  \n",
       "     China              Onions, shallots, garlic, leeks and other allia...    24603  \n",
       "                        Vegetables, alliaceous; garlic, fresh or chilled      24603  \n",
       "     Slovenia           Vegetables; tomatoes, fresh or chilled                19260  \n",
       "     Italy              Vegetables; tomatoes, fresh or chilled                19253  \n",
       "     Serbia             Vegetables; tomatoes, fresh or chilled                15233  \n",
       "     Albania            Onions, shallots, garlic, leeks and other allia...    12504  \n",
       "     Poland             Onions, shallots, garlic, leeks and other allia...    12446  \n",
       "     Albania            Vegetables, root; carrots and turnips, fresh or...    11508  \n",
       "     Croatia            Onions, shallots, garlic, leeks and other allia...     9044  \n",
       "     France             Onions, shallots, garlic, leeks and other allia...     8751  \n",
       "     Spain              Vegetables; lettuce (lactuca sativa), (other th...     7328  "
      ]
     },
     "execution_count": 128,
     "metadata": {},
     "output_type": "execute_result"
    }
   ],
   "source": [
    "report = pivot_table(vege_countries,\n",
    "               index=['Year','Partner','Commodity'],\n",
    "               columns='Trade Flow',\n",
    "               values='Trade Value (US$)',\n",
    "               aggfunc=sum)\n",
    "\n",
    "report.sort('Imports', ascending=False).head(20)"
   ]
  },
  {
   "cell_type": "code",
   "execution_count": 129,
   "metadata": {
    "collapsed": false
   },
   "outputs": [
    {
     "data": {
      "text/plain": [
       "<matplotlib.axes._subplots.AxesSubplot at 0x10c521518>"
      ]
     },
     "execution_count": 129,
     "metadata": {},
     "output_type": "execute_result"
    },
    {
     "data": {
      "image/png": "[encoded data removed]",
      "text/plain": [
       "<matplotlib.figure.Figure at 0x10aeb37f0>"
      ]
     },
     "metadata": {},
     "output_type": "display_data"
    }
   ],
   "source": [
    "report.sort('Imports').head(10).plot(kind='barh')"
   ]
  },
  {
   "cell_type": "markdown",
   "metadata": {},
   "source": [
    "Тhe total value by partner country of each commodity type (with each row corresponding to a particular country)"
   ]
  },
  {
   "cell_type": "code",
   "execution_count": 130,
   "metadata": {
    "collapsed": false
   },
   "outputs": [
    {
     "data": {
      "text/html": [
       "<div>\n",
       "<table border=\"1\" class=\"dataframe\">\n",
       "  <thead>\n",
       "    <tr style=\"text-align: right;\">\n",
       "      <th>Commodity</th>\n",
       "      <th>Onions, shallots, garlic, leeks and other alliaceous vegetables; fresh or chilled</th>\n",
       "      <th>Vegetables, alliaceous; garlic, fresh or chilled</th>\n",
       "      <th>Vegetables, root; carrots and turnips, fresh or chilled</th>\n",
       "      <th>Vegetables; cabbage (head) lettuce (lactuca sativa), fresh or chilled</th>\n",
       "      <th>Vegetables; lettuce (lactuca sativa), (other than cabbage lettuce), fresh or chilled</th>\n",
       "      <th>Vegetables; seed potatoes, fresh or chilled</th>\n",
       "      <th>Vegetables; tomatoes, fresh or chilled</th>\n",
       "    </tr>\n",
       "    <tr>\n",
       "      <th>Partner</th>\n",
       "      <th></th>\n",
       "      <th></th>\n",
       "      <th></th>\n",
       "      <th></th>\n",
       "      <th></th>\n",
       "      <th></th>\n",
       "      <th></th>\n",
       "    </tr>\n",
       "  </thead>\n",
       "  <tbody>\n",
       "    <tr>\n",
       "      <th>Albania</th>\n",
       "      <td>50042</td>\n",
       "      <td>26573</td>\n",
       "      <td>11508</td>\n",
       "      <td>NaN</td>\n",
       "      <td>NaN</td>\n",
       "      <td>NaN</td>\n",
       "      <td>1195145</td>\n",
       "    </tr>\n",
       "    <tr>\n",
       "      <th>Belarus</th>\n",
       "      <td>80979</td>\n",
       "      <td>NaN</td>\n",
       "      <td>NaN</td>\n",
       "      <td>NaN</td>\n",
       "      <td>NaN</td>\n",
       "      <td>NaN</td>\n",
       "      <td>14166</td>\n",
       "    </tr>\n",
       "    <tr>\n",
       "      <th>Bosnia Herzegovina</th>\n",
       "      <td>73042</td>\n",
       "      <td>NaN</td>\n",
       "      <td>NaN</td>\n",
       "      <td>NaN</td>\n",
       "      <td>NaN</td>\n",
       "      <td>NaN</td>\n",
       "      <td>467583</td>\n",
       "    </tr>\n",
       "    <tr>\n",
       "      <th>Bulgaria</th>\n",
       "      <td>9197</td>\n",
       "      <td>NaN</td>\n",
       "      <td>NaN</td>\n",
       "      <td>NaN</td>\n",
       "      <td>28</td>\n",
       "      <td>NaN</td>\n",
       "      <td>313584</td>\n",
       "    </tr>\n",
       "    <tr>\n",
       "      <th>China</th>\n",
       "      <td>24603</td>\n",
       "      <td>24603</td>\n",
       "      <td>NaN</td>\n",
       "      <td>NaN</td>\n",
       "      <td>NaN</td>\n",
       "      <td>NaN</td>\n",
       "      <td>NaN</td>\n",
       "    </tr>\n",
       "  </tbody>\n",
       "</table>\n",
       "</div>"
      ],
      "text/plain": [
       "Commodity           Onions, shallots, garlic, leeks and other alliaceous vegetables; fresh or chilled  \\\n",
       "Partner                                                                                                 \n",
       "Albania                                                         50042                                   \n",
       "Belarus                                                         80979                                   \n",
       "Bosnia Herzegovina                                              73042                                   \n",
       "Bulgaria                                                         9197                                   \n",
       "China                                                           24603                                   \n",
       "\n",
       "Commodity           Vegetables, alliaceous; garlic, fresh or chilled  \\\n",
       "Partner                                                                \n",
       "Albania                                                        26573   \n",
       "Belarus                                                          NaN   \n",
       "Bosnia Herzegovina                                               NaN   \n",
       "Bulgaria                                                         NaN   \n",
       "China                                                          24603   \n",
       "\n",
       "Commodity           Vegetables, root; carrots and turnips, fresh or chilled  \\\n",
       "Partner                                                                       \n",
       "Albania                                                         11508         \n",
       "Belarus                                                           NaN         \n",
       "Bosnia Herzegovina                                                NaN         \n",
       "Bulgaria                                                          NaN         \n",
       "China                                                             NaN         \n",
       "\n",
       "Commodity           Vegetables; cabbage (head) lettuce (lactuca sativa), fresh or chilled  \\\n",
       "Partner                                                                                     \n",
       "Albania                                                           NaN                       \n",
       "Belarus                                                           NaN                       \n",
       "Bosnia Herzegovina                                                NaN                       \n",
       "Bulgaria                                                          NaN                       \n",
       "China                                                             NaN                       \n",
       "\n",
       "Commodity           Vegetables; lettuce (lactuca sativa), (other than cabbage lettuce), fresh or chilled  \\\n",
       "Partner                                                                                                    \n",
       "Albania                                                           NaN                                      \n",
       "Belarus                                                           NaN                                      \n",
       "Bosnia Herzegovina                                                NaN                                      \n",
       "Bulgaria                                                           28                                      \n",
       "China                                                             NaN                                      \n",
       "\n",
       "Commodity           Vegetables; seed potatoes, fresh or chilled  \\\n",
       "Partner                                                           \n",
       "Albania                                                     NaN   \n",
       "Belarus                                                     NaN   \n",
       "Bosnia Herzegovina                                          NaN   \n",
       "Bulgaria                                                    NaN   \n",
       "China                                                       NaN   \n",
       "\n",
       "Commodity           Vegetables; tomatoes, fresh or chilled  \n",
       "Partner                                                     \n",
       "Albania                                            1195145  \n",
       "Belarus                                              14166  \n",
       "Bosnia Herzegovina                                  467583  \n",
       "Bulgaria                                            313584  \n",
       "China                                                  NaN  "
      ]
     },
     "execution_count": 130,
     "metadata": {},
     "output_type": "execute_result"
    }
   ],
   "source": [
    "report1 = pivot_table(vege_countries,\n",
    "               index=['Partner'],\n",
    "               columns='Commodity',\n",
    "               values='Trade Value (US$)',\n",
    "               aggfunc=sum)\n",
    "\n",
    "report1.head(5)"
   ]
  },
  {
   "cell_type": "code",
   "execution_count": 131,
   "metadata": {
    "collapsed": false
   },
   "outputs": [
    {
     "data": {
      "text/html": [
       "<div>\n",
       "<table border=\"1\" class=\"dataframe\">\n",
       "  <thead>\n",
       "    <tr style=\"text-align: right;\">\n",
       "      <th>Commodity</th>\n",
       "      <th>Onions, shallots, garlic, leeks and other alliaceous vegetables; fresh or chilled</th>\n",
       "      <th>Vegetables, alliaceous; garlic, fresh or chilled</th>\n",
       "      <th>Vegetables, root; carrots and turnips, fresh or chilled</th>\n",
       "      <th>Vegetables; cabbage (head) lettuce (lactuca sativa), fresh or chilled</th>\n",
       "      <th>Vegetables; lettuce (lactuca sativa), (other than cabbage lettuce), fresh or chilled</th>\n",
       "      <th>Vegetables; seed potatoes, fresh or chilled</th>\n",
       "      <th>Vegetables; tomatoes, fresh or chilled</th>\n",
       "    </tr>\n",
       "    <tr>\n",
       "      <th>Period</th>\n",
       "      <th></th>\n",
       "      <th></th>\n",
       "      <th></th>\n",
       "      <th></th>\n",
       "      <th></th>\n",
       "      <th></th>\n",
       "      <th></th>\n",
       "    </tr>\n",
       "  </thead>\n",
       "  <tbody>\n",
       "    <tr>\n",
       "      <th>201701</th>\n",
       "      <td>97555</td>\n",
       "      <td>5210</td>\n",
       "      <td>88539</td>\n",
       "      <td>193</td>\n",
       "      <td>3505</td>\n",
       "      <td>97782</td>\n",
       "      <td>196274</td>\n",
       "    </tr>\n",
       "    <tr>\n",
       "      <th>201702</th>\n",
       "      <td>251644</td>\n",
       "      <td>4554</td>\n",
       "      <td>80376</td>\n",
       "      <td>729</td>\n",
       "      <td>3700</td>\n",
       "      <td>459363</td>\n",
       "      <td>380467</td>\n",
       "    </tr>\n",
       "    <tr>\n",
       "      <th>201704</th>\n",
       "      <td>385711</td>\n",
       "      <td>13338</td>\n",
       "      <td>86425</td>\n",
       "      <td>352</td>\n",
       "      <td>3600</td>\n",
       "      <td>63949</td>\n",
       "      <td>1778454</td>\n",
       "    </tr>\n",
       "    <tr>\n",
       "      <th>201705</th>\n",
       "      <td>427984</td>\n",
       "      <td>4106</td>\n",
       "      <td>24669</td>\n",
       "      <td>728</td>\n",
       "      <td>3297</td>\n",
       "      <td>NaN</td>\n",
       "      <td>5304392</td>\n",
       "    </tr>\n",
       "    <tr>\n",
       "      <th>201706</th>\n",
       "      <td>371227</td>\n",
       "      <td>24890</td>\n",
       "      <td>16557</td>\n",
       "      <td>46</td>\n",
       "      <td>2495</td>\n",
       "      <td>NaN</td>\n",
       "      <td>5496255</td>\n",
       "    </tr>\n",
       "  </tbody>\n",
       "</table>\n",
       "</div>"
      ],
      "text/plain": [
       "Commodity  Onions, shallots, garlic, leeks and other alliaceous vegetables; fresh or chilled  \\\n",
       "Period                                                                                         \n",
       "201701                                                 97555                                   \n",
       "201702                                                251644                                   \n",
       "201704                                                385711                                   \n",
       "201705                                                427984                                   \n",
       "201706                                                371227                                   \n",
       "\n",
       "Commodity  Vegetables, alliaceous; garlic, fresh or chilled  \\\n",
       "Period                                                        \n",
       "201701                                                 5210   \n",
       "201702                                                 4554   \n",
       "201704                                                13338   \n",
       "201705                                                 4106   \n",
       "201706                                                24890   \n",
       "\n",
       "Commodity  Vegetables, root; carrots and turnips, fresh or chilled  \\\n",
       "Period                                                               \n",
       "201701                                                 88539         \n",
       "201702                                                 80376         \n",
       "201704                                                 86425         \n",
       "201705                                                 24669         \n",
       "201706                                                 16557         \n",
       "\n",
       "Commodity  Vegetables; cabbage (head) lettuce (lactuca sativa), fresh or chilled  \\\n",
       "Period                                                                             \n",
       "201701                                                   193                       \n",
       "201702                                                   729                       \n",
       "201704                                                   352                       \n",
       "201705                                                   728                       \n",
       "201706                                                    46                       \n",
       "\n",
       "Commodity  Vegetables; lettuce (lactuca sativa), (other than cabbage lettuce), fresh or chilled  \\\n",
       "Period                                                                                            \n",
       "201701                                                  3505                                      \n",
       "201702                                                  3700                                      \n",
       "201704                                                  3600                                      \n",
       "201705                                                  3297                                      \n",
       "201706                                                  2495                                      \n",
       "\n",
       "Commodity  Vegetables; seed potatoes, fresh or chilled  \\\n",
       "Period                                                   \n",
       "201701                                           97782   \n",
       "201702                                          459363   \n",
       "201704                                           63949   \n",
       "201705                                             NaN   \n",
       "201706                                             NaN   \n",
       "\n",
       "Commodity  Vegetables; tomatoes, fresh or chilled  \n",
       "Period                                             \n",
       "201701                                     196274  \n",
       "201702                                     380467  \n",
       "201704                                    1778454  \n",
       "201705                                    5304392  \n",
       "201706                                    5496255  "
      ]
     },
     "execution_count": 131,
     "metadata": {},
     "output_type": "execute_result"
    }
   ],
   "source": [
    "#the total value of trade in commodity type for each month of the year\n",
    "report2 = pivot_table(vege_countries,\n",
    "               index=['Period'],\n",
    "               columns='Commodity',\n",
    "               values='Trade Value (US$)',\n",
    "               aggfunc=sum)\n",
    "\n",
    "report2.head(10)"
   ]
  },
  {
   "cell_type": "code",
   "execution_count": 132,
   "metadata": {
    "collapsed": false
   },
   "outputs": [
    {
     "data": {
      "text/html": [
       "<div>\n",
       "<table border=\"1\" class=\"dataframe\">\n",
       "  <thead>\n",
       "    <tr style=\"text-align: right;\">\n",
       "      <th>Commodity</th>\n",
       "      <th>Vegetables; tomatoes, fresh or chilled</th>\n",
       "    </tr>\n",
       "    <tr>\n",
       "      <th>Partner</th>\n",
       "      <th></th>\n",
       "    </tr>\n",
       "  </thead>\n",
       "  <tbody>\n",
       "    <tr>\n",
       "      <th>Albania</th>\n",
       "      <td>1195145</td>\n",
       "    </tr>\n",
       "    <tr>\n",
       "      <th>Belarus</th>\n",
       "      <td>14166</td>\n",
       "    </tr>\n",
       "    <tr>\n",
       "      <th>Bosnia Herzegovina</th>\n",
       "      <td>467583</td>\n",
       "    </tr>\n",
       "    <tr>\n",
       "      <th>Bulgaria</th>\n",
       "      <td>313584</td>\n",
       "    </tr>\n",
       "    <tr>\n",
       "      <th>Croatia</th>\n",
       "      <td>335777</td>\n",
       "    </tr>\n",
       "    <tr>\n",
       "      <th>Greece</th>\n",
       "      <td>128441</td>\n",
       "    </tr>\n",
       "    <tr>\n",
       "      <th>Italy</th>\n",
       "      <td>19253</td>\n",
       "    </tr>\n",
       "    <tr>\n",
       "      <th>Latvia</th>\n",
       "      <td>9662</td>\n",
       "    </tr>\n",
       "    <tr>\n",
       "      <th>Montenegro</th>\n",
       "      <td>459361</td>\n",
       "    </tr>\n",
       "    <tr>\n",
       "      <th>Romania</th>\n",
       "      <td>17812</td>\n",
       "    </tr>\n",
       "  </tbody>\n",
       "</table>\n",
       "</div>"
      ],
      "text/plain": [
       "Commodity           Vegetables; tomatoes, fresh or chilled\n",
       "Partner                                                   \n",
       "Albania                                            1195145\n",
       "Belarus                                              14166\n",
       "Bosnia Herzegovina                                  467583\n",
       "Bulgaria                                            313584\n",
       "Croatia                                             335777\n",
       "Greece                                              128441\n",
       "Italy                                                19253\n",
       "Latvia                                                9662\n",
       "Montenegro                                          459361\n",
       "Romania                                              17812"
      ]
     },
     "execution_count": 132,
     "metadata": {},
     "output_type": "execute_result"
    }
   ],
   "source": [
    "#the leading partners associated with the Vegetables; tomatoes, fresh or chilled commodity \n",
    "KEYCOMMODITY = ['Vegetables; tomatoes, fresh or chilled']\n",
    "vege_countries_tomato = vege_countries[vege_countries['Commodity'].isin(KEYCOMMODITY)]\n",
    "\n",
    "report3 = pivot_table(vege_countries_tomato,\n",
    "               index=['Partner'],\n",
    "               columns='Commodity',\n",
    "               values='Trade Value (US$)',\n",
    "               aggfunc=sum)\n",
    "\n",
    "report3.head(10)"
   ]
  },
  {
   "cell_type": "code",
   "execution_count": 133,
   "metadata": {
    "collapsed": false
   },
   "outputs": [
    {
     "data": {
      "text/html": [
       "<div>\n",
       "<table border=\"1\" class=\"dataframe\">\n",
       "  <thead>\n",
       "    <tr style=\"text-align: right;\">\n",
       "      <th></th>\n",
       "      <th>Commodity</th>\n",
       "      <th>Vegetables; tomatoes, fresh or chilled</th>\n",
       "    </tr>\n",
       "    <tr>\n",
       "      <th>Partner</th>\n",
       "      <th>Period</th>\n",
       "      <th></th>\n",
       "    </tr>\n",
       "  </thead>\n",
       "  <tbody>\n",
       "    <tr>\n",
       "      <th rowspan=\"4\" valign=\"top\">Albania</th>\n",
       "      <th>201701</th>\n",
       "      <td>15062</td>\n",
       "    </tr>\n",
       "    <tr>\n",
       "      <th>201704</th>\n",
       "      <td>441106</td>\n",
       "    </tr>\n",
       "    <tr>\n",
       "      <th>201705</th>\n",
       "      <td>733109</td>\n",
       "    </tr>\n",
       "    <tr>\n",
       "      <th>201706</th>\n",
       "      <td>5868</td>\n",
       "    </tr>\n",
       "  </tbody>\n",
       "</table>\n",
       "</div>"
      ],
      "text/plain": [
       "Commodity       Vegetables; tomatoes, fresh or chilled\n",
       "Partner Period                                        \n",
       "Albania 201701                                   15062\n",
       "        201704                                  441106\n",
       "        201705                                  733109\n",
       "        201706                                    5868"
      ]
     },
     "execution_count": 133,
     "metadata": {},
     "output_type": "execute_result"
    }
   ],
   "source": [
    "#the trade value, by month and commodity type, for Albania.\n",
    "KEYPARTNER = ['Albania']\n",
    "vege_countries_tomato_AL = vege_countries_tomato[vege_countries_tomato['Partner'].isin(KEYPARTNER)]\n",
    "\n",
    "report4 = pivot_table(vege_countries_tomato_AL,\n",
    "               index=['Partner' , 'Period'],\n",
    "               columns='Commodity',\n",
    "               values='Trade Value (US$)',\n",
    "               aggfunc=sum)\n",
    "\n",
    "report4.head(10)"
   ]
  },
  {
   "cell_type": "markdown",
   "metadata": {},
   "source": [
    "# Conclusions\n",
    "The vegetabeles trade of the Republic of Macedonia for 2017 was analysed in terms of which countries Macedonia mostly depends on for income (exports) and goods (imports). Over the period, Macedonia had a trade surplus of over 18 million US dollars.\n",
    "Albania is the main partner, but it imported far less then the value that was exported to Macedonia.\n",
    "    Macedonia exported to over 17 countries during the period, and imported from 20 countries, the main ones (top five by trade value) Albania, Belarus, Bosnia and Herzegovina, Bulgaria and China. Serbia and the Russian Federation are the main importers and Albania and The Netherlands are the main exporters to Republic of Macedonia.\n",
    "Macedonia has bi-directional trade (i.e. both exports and imports) with 9 countries, although for some the trade value (in US dollars) is low."
   ]
  }
 ],
 "metadata": {
  "kernelspec": {
   "display_name": "Python 3",
   "language": "python",
   "name": "python3"
  },
  "language_info": {
   "codemirror_mode": {
    "name": "ipython",
    "version": 3
   },
   "file_extension": ".py",
   "mimetype": "text/x-python",
   "name": "python",
   "nbconvert_exporter": "python",
   "pygments_lexer": "ipython3",
   "version": "3.4.3"
  }
 },
 "nbformat": 4,
 "nbformat_minor": 0
}
